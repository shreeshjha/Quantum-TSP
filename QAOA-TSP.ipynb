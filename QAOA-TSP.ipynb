{
 "cells": [
  {
   "cell_type": "markdown",
   "metadata": {
    "tags": []
   },
   "source": [
    "# QAOA Travelling Salesman Problem"
   ]
  },
  {
   "cell_type": "code",
   "execution_count": 1,
   "metadata": {},
   "outputs": [],
   "source": [
    "import numpy as np\n",
    "%matplotlib inline\n",
    "\n",
    "\n",
    "def points_to_binary_state(points_order):\n",
    "    number_of_points = len(points_order)\n",
    "    binary_state = np.zeros((len(points_order))**2)\n",
    "    for j in range(len(points_order)):\n",
    "        p = points_order[j]\n",
    "        binary_state[(number_of_points) * (j) + (p)] = 1\n",
    "    return binary_state\n",
    "\n",
    "def binary_to_points_order(binary_state):\n",
    "    points_order = []\n",
    "    number_of_points = int(np.sqrt(len(binary_state)))\n",
    "    for p in range(number_of_points):\n",
    "        for j in range(number_of_points):\n",
    "            if binary_state[(number_of_points) * p + j] == 1:\n",
    "                points_order.append(j)\n",
    "    return points_order"
   ]
  },
  {
   "cell_type": "code",
   "execution_count": 2,
   "metadata": {},
   "outputs": [
    {
     "name": "stdout",
     "output_type": "stream",
     "text": [
      "Binary representation of  [0, 1, 2] is [1. 0. 0. 0. 1. 0. 0. 0. 1.]\n",
      "[0, 1, 2] should be equal to [0, 1, 2]\n"
     ]
    }
   ],
   "source": [
    "Points_order = [0, 1, 2]\n",
    "Binary_state = points_to_binary_state(Points_order)\n",
    "Points_order_again = binary_to_points_order(Binary_state)\n",
    "\n",
    "print(\"Binary Representation :->\", Points_order, \"is\", Binary_state)\n",
    "print(Points_order_again, \"must be equal to\", Points_order)"
   ]
  },
  {
   "cell_type": "markdown",
   "metadata": {},
   "source": [
    "Now that we know how to encode our problem, we will use `ForestTSPSolverNaive` class to solve it. We will start with 3 cities since the calcultions are faster this way. We will go to more cities when we are sure that our code is working properly."
   ]
  },
  {
   "cell_type": "code",
   "execution_count": 3,
   "metadata": {},
   "outputs": [],
   "source": [
    "from scripts.forest_tsp_solver_naive import ForestTSPSolverNaive"
   ]
  },
  {
   "cell_type": "code",
   "execution_count": 4,
   "metadata": {},
   "outputs": [
    {
     "data": {
      "image/png": "[encoded data removed]",
      "text/plain": [
       "<Figure size 432x288 with 1 Axes>"
      ]
     },
     "metadata": {},
     "output_type": "display_data"
    }
   ],
   "source": [
    "from scripts import utilities\n",
    "from scripts import plots\n",
    "import matplotlib.pyplot as plt\n",
    "# cities = utilities.create_cities(3)\n",
    "cities = np.array([[0, 4],[0, 0],[3, 0]])\n",
    "distance_matrix = utilities.get_distance_matrix(cities)\n",
    "plots.plot_cities(cities)\n",
    "plt.show()"
   ]
  },
  {
   "cell_type": "code",
   "execution_count": 5,
   "metadata": {},
   "outputs": [
    {
     "name": "stdout",
     "output_type": "stream",
     "text": [
      "WARNING: Fast method for expectation will be used. Noise\n",
      "                     models will be ineffective\n",
      "\tParameters: [0.32120728 5.81929383] \n",
      "\tE => -2225.902046395591\n",
      "\tParameters: [0.32120728 5.81929383] \n",
      "\tE => -2959.7191426814898\n",
      "\tParameters: [0.32120728 5.81929383] \n",
      "\tE => -2418.5086486322734\n",
      "\tParameters: [0.32120728 5.81929383] \n",
      "\tE => -2791.1897207746892\n",
      "\tParameters: [0.32120728 5.81929383] \n",
      "\tE => -2817.2141714650375\n",
      "\tParameters: [0.32120728 5.81929383] \n",
      "\tE => -2506.2053350309484\n",
      "\tParameters: [0.32120728 5.81929383] \n",
      "\tE => -2746.412355359732\n",
      "\tParameters: [0.32120728 5.81929383] \n",
      "\tE => -2461.5320208204657\n",
      "\tParameters: [0.32120728 5.81929383] \n",
      "\tE => -2917.102934101301\n",
      "\tParameters: [0.32171701 5.81900969] \n",
      "\tE => -2989.5439816908374\n",
      "\tParameters: [0.32071324 5.81900969] \n",
      "\tE => -2964.4265003113405\n",
      "\tParameters: [0.3212112  5.81915176] \n",
      "\tE => -2991.0777956864486\n",
      "\tParameters: [0.32020743 5.81915176] \n",
      "\tE => -2983.0174931466145\n",
      "\tParameters: [0.32071128 5.81908073] \n",
      "\tE => -2993.3252511963615\n",
      "\tParameters: [0.31970751 5.81908073] \n",
      "\tE => -2992.248956828172\n",
      "\tParameters: [0.31970751 5.81908073] \n",
      "\tE => -2992.9691102365696\n",
      "\tParameters: [0.31970751 5.81908073] \n",
      "\tE => -2993.3415997381435\n",
      "\tParameters: [0.31920513 5.81909848] \n",
      "\tE => -2993.240116895994\n",
      "\tParameters: [0.31870373 5.81908073] \n",
      "\tE => -2993.246348321256\n",
      "\tParameters: [0.31820136 5.81909848] \n",
      "\tE => -2993.250733394864\n",
      "\tParameters: [0.31769996 5.81908073] \n",
      "\tE => -2993.253492215863\n",
      "\tParameters: [0.31719758 5.81909848] \n",
      "\tE => -2993.2531862802393\n",
      "The solution is: [0, 0, 2]\n"
     ]
    }
   ],
   "source": [
    "tsp_solver = ForestTSPSolverNaive(distance_matrix, use_constraints=True)\n",
    "solution, naive_distribution = tsp_solver.solve_tsp()\n",
    "print(\"The solution is:\", solution)"
   ]
  },
  {
   "cell_type": "markdown",
   "metadata": {},
   "source": [
    "Wait a minute... This doesn't make sense at all. We wanted to get `[0, 1, 2]`, and I got `[0, 1, 2, 2]`. \n",
    "(Since the result is probabilistic, you might have gotten something different. Also every time I update this notebook I get something different, so sorry for some inconsistencies here.)\n",
    "<br>\n",
    "Maybe something is wrong with the `binary_state_to_points_order` in our solver? We should investigate the binary string."
   ]
  },
  {
   "cell_type": "code",
   "execution_count": 6,
   "metadata": {},
   "outputs": [
    {
     "name": "stdout",
     "output_type": "stream",
     "text": [
      "Your binary solution is: (1, 0, 0, 1, 0, 0, 0, 0, 1)\n",
      "My initial binary solution is: (1, 1, 1, 0, 0, 0, 0, 0, 1)\n"
     ]
    }
   ],
   "source": [
    "print(\"Your binary solution is:\", tsp_solver.most_frequent_string)\n",
    "print(\"My initial binary solution is:\", (1,1,1,0,0,0,0,0,1))"
   ]
  },
  {
   "cell_type": "markdown",
   "metadata": {},
   "source": [
    "This solution doesn't make sense at all! This string means, that at t=0 we are in all the cities at the same time, then at t=1 we are not present anywhere and at t=2 we are in the city 2.\n",
    "<br>\n",
    "It's not a surprise, that our order of traveling looks weird."
   ]
  },
  {
   "cell_type": "markdown",
   "metadata": {},
   "source": [
    "At this point you may have noticed something suspicious with our class. It's called `ForestTSPSolverNaive`.\n",
    "<br>\n",
    "\"Naive\"... It doesn't sound very promising to me. Let's see why I named it naive, what's actually inside it and why we got such a crappy solution."
   ]
  },
  {
   "cell_type": "code",
   "execution_count": 7,
   "metadata": {},
   "outputs": [
    {
     "name": "stdout",
     "output_type": "stream",
     "text": [
      "[[0. 4. 5.]\n",
      " [4. 0. 3.]\n",
      " [5. 3. 0.]]\n"
     ]
    }
   ],
   "source": [
    "distance_matrix = utilities.get_distance_matrix(cities)\n",
    "print(distance_matrix)\n",
    "number_of_cities = len(Cities)"
   ]
  },
  {
   "cell_type": "code",
   "execution_count": 8,
   "metadata": {},
   "outputs": [
    {
     "name": "stdout",
     "output_type": "stream",
     "text": [
      "City 0 to 1 at t = 0 costs -2.0 Qubits: 0 4\n",
      "City 0 to 1 at t = 1 costs -2.0 Qubits: 3 7\n",
      "City 0 to 2 at t = 0 costs -2.5 Qubits: 0 5\n",
      "City 0 to 2 at t = 1 costs -2.5 Qubits: 3 8\n",
      "City 1 to 2 at t = 0 costs -1.5 Qubits: 1 5\n",
      "City 1 to 2 at t = 1 costs -1.5 Qubits: 4 8\n"
     ]
    }
   ],
   "source": [
    "from pyquil.paulis import PauliTerm\n",
    "\n",
    "cost_operators = []\n",
    "number_of_cities = len(distance_matrix)\n",
    "\n",
    "for city1 in range(number_of_cities):\n",
    "    for city2 in range(city1, number_of_cities):\n",
    "        for t in range(number_of_cities - 1):\n",
    "            weight = -distance_matrix[city1][city2]/2\n",
    "            if distance_matrix[city1][city2] != 0:\n",
    "                qubit_1 = t * number_of_cities + i\n",
    "                qubit_2 = (t + 1) * number_of_cities + j\n",
    "                cost_operators.append(PauliTerm(\"I\", 0, weight) - PauliTerm(\"Z\", qubit_1, weight) * PauliTerm(\"Z\", qubit_2))\n",
    "                print(\"City\", i, \"to\", j, \"at t =\", t, \"costs\", weight, \"Qubits:\", qubit_1, qubit_2)"
   ]
  },
  {
   "cell_type": "code",
   "execution_count": 9,
   "metadata": {},
   "outputs": [
    {
     "name": "stdout",
     "output_type": "stream",
     "text": [
      "(-2+0j)*I + (2-0j)*Z0*Z4\n",
      "(-2+0j)*I + (2-0j)*Z3*Z7\n",
      "(-2.5+0j)*I + (2.5-0j)*Z0*Z5\n",
      "(-2.5+0j)*I + (2.5-0j)*Z3*Z8\n",
      "(-1.5+0j)*I + (1.5-0j)*Z1*Z5\n",
      "(-1.5+0j)*I + (1.5-0j)*Z4*Z8\n"
     ]
    }
   ],
   "source": [
    "for single_cost_operator in cost_operators:\n",
    "    print(single_cost_operator)"
   ]
  },
  {
   "cell_type": "code",
   "execution_count": 10,
   "metadata": {},
   "outputs": [
    {
     "data": {
      "image/png": "[encoded data removed]",
      "text/plain": [
       "<Figure size 432x288 with 1 Axes>"
      ]
     },
     "metadata": {},
     "output_type": "display_data"
    }
   ],
   "source": [
    "x = np.linspace(0, 10, 1000)\n",
    "y = x**2\n",
    "plt.plot(x,y)\n",
    "plt.vlines(2, 0, 100)\n",
    "plt.show()"
   ]
  },
  {
   "cell_type": "code",
   "execution_count": 11,
   "metadata": {},
   "outputs": [],
   "source": [
    "pen = np.piecewise(x, [x<2, x>=2], [lambda x: 100*(-x+2)**3, 0])"
   ]
  },
  {
   "cell_type": "code",
   "execution_count": 12,
   "metadata": {},
   "outputs": [
    {
     "data": {
      "image/png": "[encoded data removed]",
      "text/plain": [
       "<Figure size 432x288 with 1 Axes>"
      ]
     },
     "metadata": {},
     "output_type": "display_data"
    }
   ],
   "source": [
    "plt.plot(x,y)\n",
    "plt.plot(x,pen)\n",
    "plt.vlines(2, 0, 100)\n",
    "plt.ylim([0,100])\n",
    "plt.show()"
   ]
  },
  {
   "cell_type": "code",
   "execution_count": 13,
   "metadata": {},
   "outputs": [
    {
     "data": {
      "image/png": "[encoded data removed]",
      "text/plain": [
       "<Figure size 432x288 with 1 Axes>"
      ]
     },
     "metadata": {},
     "output_type": "display_data"
    }
   ],
   "source": [
    "plt.plot(x,y + pen)\n",
    "plt.vlines(2, 0, 100)\n",
    "plt.ylim([0,100])\n",
    "plt.show()"
   ]
  },
  {
   "cell_type": "code",
   "execution_count": 14,
   "metadata": {},
   "outputs": [
    {
     "data": {
      "text/plain": [
       "1.8918918918918919"
      ]
     },
     "execution_count": 14,
     "metadata": {},
     "output_type": "execute_result"
    }
   ],
   "source": [
    "x[np.argmin(y+pen)]"
   ]
  },
  {
   "cell_type": "code",
   "execution_count": 15,
   "metadata": {},
   "outputs": [
    {
     "data": {
      "text/plain": [
       "array([[0., 0., 0., 0.],\n",
       "       [0., 2., 0., 0.],\n",
       "       [0., 0., 2., 0.],\n",
       "       [0., 0., 0., 0.]])"
      ]
     },
     "execution_count": 15,
     "metadata": {},
     "output_type": "execute_result"
    }
   ],
   "source": [
    "import numpy as np\n",
    "Z = np.array([[1,0],[0,-1]])\n",
    "np.eye(4) - np.kron(Z,Z)"
   ]
  },
  {
   "cell_type": "markdown",
   "metadata": {},
   "source": [
    "What does it mean for us?\n",
    "<br>\n",
    "That if we need to find a way to construct such matrix using the Pauli gates that it will add huge penalty for the states we don't want."
   ]
  },
  {
   "cell_type": "markdown",
   "metadata": {},
   "source": [
    "As mentioned earlier, there are two types of constraints we have:\n",
    "- we need to visit each city once\n",
    "- in every moment we need to be in exactly one city\n",
    "\n",
    "Let's take an example of 3 cities to make it clear how to encode these."
   ]
  },
  {
   "cell_type": "markdown",
   "metadata": {},
   "source": [
    "Our solution will be the following vector state: \n",
    "<br>\n",
    "$\\ket{\\psi_{sol}} = \\ket{q_1 q_2 q_3 q_4 q_5 q_6 q_7 q_8 q_9}$\n",
    "<br>\n",
    "Let's say, that at $t=0$ we want to visit only one city. This means, that the only possible states are $\\ket{100}$, $\\ket{010}$ and $\\ket{001}$, so we want to penalize all the other states.\n",
    "It turns out, that the following operator almost gives us what we want:"
   ]
  },
  {
   "cell_type": "code",
   "execution_count": 16,
   "metadata": {},
   "outputs": [
    {
     "name": "stdout",
     "output_type": "stream",
     "text": [
      "Product of Z1, Z2 and Z3\n",
      "[[ 1  0  0  0  0  0  0  0]\n",
      " [ 0 -1  0  0  0  0  0  0]\n",
      " [ 0  0 -1  0  0  0  0  0]\n",
      " [ 0  0  0  1  0  0  0  0]\n",
      " [ 0  0  0  0 -1  0  0  0]\n",
      " [ 0  0  0  0  0  1  0  0]\n",
      " [ 0  0  0  0  0  0  1  0]\n",
      " [ 0  0  0  0  0  0  0 -1]]\n",
      "Our operator\n",
      "[[1. 0. 0. 0. 0. 0. 0. 0.]\n",
      " [0. 0. 0. 0. 0. 0. 0. 0.]\n",
      " [0. 0. 0. 0. 0. 0. 0. 0.]\n",
      " [0. 0. 0. 1. 0. 0. 0. 0.]\n",
      " [0. 0. 0. 0. 0. 0. 0. 0.]\n",
      " [0. 0. 0. 0. 0. 1. 0. 0.]\n",
      " [0. 0. 0. 0. 0. 0. 1. 0.]\n",
      " [0. 0. 0. 0. 0. 0. 0. 0.]]\n"
     ]
    }
   ],
   "source": [
    "Z1Z2Z3 = np.kron(Z,np.kron(Z,Z))\n",
    "print(\"Product of Z1, Z2 and Z3\")\n",
    "print(Z1Z2Z3)\n",
    "print(\"Our operator\")\n",
    "basic_penalty = 0.5 * (np.eye(8) + Z1Z2Z3)\n",
    "print(basic_penalty)"
   ]
  },
  {
   "cell_type": "markdown",
   "metadata": {},
   "source": [
    "This operator ignore the states we want and  will add penalty to all the others, namely: $\\ket{000}$, $\\ket{011}$, $\\ket{101}$ and $\\ket{110}$."
   ]
  },
  {
   "cell_type": "markdown",
   "metadata": {},
   "source": [
    "The only problem is, that it doesn't penalize state $\\ket{111}$, but we can deal with that with the following addition:"
   ]
  },
  {
   "cell_type": "code",
   "execution_count": 17,
   "metadata": {},
   "outputs": [
    {
     "name": "stdout",
     "output_type": "stream",
     "text": [
      "Our helper operator:\n",
      "[[0. 0.]\n",
      " [0. 1.]]\n",
      "Our operator for 111 state:\n",
      "[[0. 0. 0. 0. 0. 0. 0. 0.]\n",
      " [0. 0. 0. 0. 0. 0. 0. 0.]\n",
      " [0. 0. 0. 0. 0. 0. 0. 0.]\n",
      " [0. 0. 0. 0. 0. 0. 0. 0.]\n",
      " [0. 0. 0. 0. 0. 0. 0. 0.]\n",
      " [0. 0. 0. 0. 0. 0. 0. 0.]\n",
      " [0. 0. 0. 0. 0. 0. 0. 0.]\n",
      " [0. 0. 0. 0. 0. 0. 0. 1.]]\n"
     ]
    }
   ],
   "source": [
    "helper_op = 0.5 * (np.eye(2) - Z)\n",
    "print(\"Our helper operator:\")\n",
    "print(helper_op)\n",
    "print(\"Our operator for 111 state:\")\n",
    "penalty_111 = np.kron(helper_op, np.kron(helper_op,helper_op))\n",
    "print(penalty_111)"
   ]
  },
  {
   "cell_type": "markdown",
   "metadata": {},
   "source": [
    "Now we can combine those operators to get our final penalty operator:"
   ]
  },
  {
   "cell_type": "code",
   "execution_count": 18,
   "metadata": {},
   "outputs": [
    {
     "name": "stdout",
     "output_type": "stream",
     "text": [
      "Final penalty operator\n",
      "[[1. 0. 0. 0. 0. 0. 0. 0.]\n",
      " [0. 0. 0. 0. 0. 0. 0. 0.]\n",
      " [0. 0. 0. 0. 0. 0. 0. 0.]\n",
      " [0. 0. 0. 1. 0. 0. 0. 0.]\n",
      " [0. 0. 0. 0. 0. 0. 0. 0.]\n",
      " [0. 0. 0. 0. 0. 1. 0. 0.]\n",
      " [0. 0. 0. 0. 0. 0. 1. 0.]\n",
      " [0. 0. 0. 0. 0. 0. 0. 1.]]\n"
     ]
    }
   ],
   "source": [
    "print(\"Final penalty operator\")\n",
    "final_penalty = basic_penalty + penalty_111\n",
    "print(final_penalty)"
   ]
  },
  {
   "cell_type": "markdown",
   "metadata": {},
   "source": [
    "Ok, so now we know how to deal with our very first constraint - being in only one city at the time, for the first time slot. We need to add penalty operator for qubits $q_1$, $q_2$, $q_3$, $P_{123}$, to our cost operators. With a proper weight, of course.\n",
    "<br>\n",
    "To deal with all the other time slots, we just need to work with other set of qubits, so have $P_{456}$ and $P_{789}$."
   ]
  },
  {
   "cell_type": "markdown",
   "metadata": {},
   "source": [
    "Now, we want to deal with the second constraint, that we can visit each city only once. Well, it's actually exactly the same situation, but this time instead of using qubits associated with the same time slot, we need to use qubits associated with the same cities. \n",
    "<br>\n",
    "So operators: $P_{147}$, $P_{258}$ and $P_{369}$ will do the job."
   ]
  },
  {
   "cell_type": "markdown",
   "metadata": {},
   "source": [
    "Now we are ready to actually code it in pyQuil and add it to our cost operator."
   ]
  },
  {
   "cell_type": "code",
   "execution_count": 19,
   "metadata": {},
   "outputs": [],
   "source": [
    "def create_penalty_operators_for_qubits(qubits):\n",
    "    pass"
   ]
  },
  {
   "cell_type": "code",
   "execution_count": 20,
   "metadata": {},
   "outputs": [],
   "source": [
    "def create_penalty_operators_for_repetition(number_of_cities):\n",
    "    pass"
   ]
  },
  {
   "cell_type": "code",
   "execution_count": 21,
   "metadata": {},
   "outputs": [],
   "source": [
    "def create_penalty_operators_for_bilocation(number_of_cities):\n",
    "    pass"
   ]
  },
  {
   "cell_type": "code",
   "execution_count": 22,
   "metadata": {},
   "outputs": [],
   "source": [
    "def create_weights_cost_operators(distance_matrix):\n",
    "    pass"
   ]
  },
  {
   "cell_type": "code",
   "execution_count": 23,
   "metadata": {},
   "outputs": [],
   "source": [
    "def create_cost_operators(distance_matrix):\n",
    "    pass\n"
   ]
  },
  {
   "cell_type": "markdown",
   "metadata": {},
   "source": [
    "Now that we have the cost operators with the penalties ready, we try using it "
   ]
  },
  {
   "cell_type": "code",
   "execution_count": 24,
   "metadata": {},
   "outputs": [
    {
     "name": "stdout",
     "output_type": "stream",
     "text": [
      "WARNING: Fast method for expectation will be used. Noise\n",
      "                     models will be ineffective\n",
      "\tParameters: [2.36630561 2.87194104] \n",
      "\tE => -2659.729526109549\n",
      "\tParameters: [2.36630561 2.87194104] \n",
      "\tE => -2500.928153946556\n",
      "\tParameters: [2.36630561 2.87194104] \n",
      "\tE => -2649.549671687539\n",
      "\tParameters: [2.36630561 2.87194104] \n",
      "\tE => -2656.8578001498586\n",
      "\tParameters: [2.36630561 2.87194104] \n",
      "\tE => -2593.2672286683924\n",
      "\tParameters: [2.36630561 2.87194104] \n",
      "\tE => -2602.6375162862882\n",
      "\tParameters: [2.36630561 2.87194104] \n",
      "\tE => -2489.3044561287666\n",
      "\tParameters: [2.36977187 2.87250197] \n",
      "\tE => -2717.6451379467208\n",
      "\tParameters: [2.36977187 2.87250197] \n",
      "\tE => -2717.1651827131263\n",
      "\tParameters: [2.36977187 2.87250197] \n",
      "\tE => -2700.167597643281\n",
      "\tParameters: [2.36780766 2.87278243] \n",
      "\tE => -2690.609142205864\n",
      "\tParameters: [2.37150501 2.87278243] \n",
      "\tE => -2721.3134501326062\n",
      "\tParameters: [2.37150501 2.87278243] \n",
      "\tE => -2728.741501800037\n",
      "\tParameters: [2.37150501 2.87278243] \n",
      "\tE => -2731.8585776181585\n",
      "\tParameters: [2.36967078 2.87274737] \n",
      "\tE => -2732.3899979107464\n",
      "\tParameters: [2.37614836 2.87272984] \n",
      "\tE => -2732.780241912009\n",
      "\tParameters: [2.37614836 2.87272984] \n",
      "\tE => -2732.622686881663\n",
      "\tParameters: [2.38319193 2.8727408 ] \n",
      "\tE => -2733.439787870112\n",
      "\tParameters: [2.38319193 2.8727408 ] \n",
      "\tE => -2733.0264291847257\n",
      "\tParameters: [2.40319067 2.8727167 ] \n",
      "\tE => -2733.7516172683777\n",
      "\tParameters: [2.40530789 2.872766  ] \n",
      "\tE => -2734.5837580210487\n",
      "\tParameters: [2.40530789 2.872766  ] \n",
      "\tE => -2734.3407060767177\n",
      "\tParameters: [2.42742385 2.8727912 ] \n",
      "\tE => -2733.7879045368604\n",
      "\tParameters: [2.42083625 2.87276025] \n",
      "\tE => -2734.7191386661075\n",
      "\tParameters: [2.41471897 2.87277086] \n",
      "\tE => -2734.7560369013227\n",
      "\tParameters: [2.42260073 2.87277837] \n",
      "\tE => -2734.7757297740714\n",
      "\tParameters: [2.42260073 2.87277837] \n",
      "\tE => -2734.772663201975\n",
      "\tParameters: [2.41794668 2.87277188] \n",
      "\tE => -2734.779095761112\n",
      "The solution is: [2, 2, 0, 1, 2]\n"
     ]
    }
   ],
   "source": [
    "tsp_solver = ForestTSPSolverNaive(distance_matrix, use_constraints=True)\n",
    "solution, naive_distribution = tsp_solver.solve_tsp()\n",
    "print(\"The solution is:\", solution)"
   ]
  },
  {
   "cell_type": "markdown",
   "metadata": {},
   "source": [
    "You might got a proper solution or not, but it's good to see what's the actual distribution of the results:"
   ]
  },
  {
   "cell_type": "code",
   "execution_count": 25,
   "metadata": {},
   "outputs": [
    {
     "data": {
      "image/png": "[encoded data removed]",
      "text/plain": [
       "<Figure size 432x288 with 1 Axes>"
      ]
     },
     "metadata": {},
     "output_type": "display_data"
    }
   ],
   "source": [
    "states_with_probs = []\n",
    "for state in tsp_solver.sampling_results:\n",
    "    states_with_probs.append([''.join(map(str,state)), tsp_solver.sampling_results[state]/10000])\n",
    "states_with_probs = sorted(states_with_probs,key=lambda x: -x[1])\n",
    "plots.plot_state_histogram(states_with_probs[:10][::-1])"
   ]
  },
  {
   "cell_type": "markdown",
   "metadata": {},
   "source": [
    "Since it might be hard for you to decode the bitstrings, let's take a look at the human-readable representation.\n",
    "The two might actually differ, since many bitstrings may have the same representation in a case of an invalid solution. That's why we call the distribution coming from tsp_solver a `naive_distribution`."
   ]
  },
  {
   "cell_type": "code",
   "execution_count": 26,
   "metadata": {},
   "outputs": [
    {
     "data": {
      "image/png": "[encoded data removed]",
      "text/plain": [
       "<Figure size 432x288 with 1 Axes>"
      ]
     },
     "metadata": {},
     "output_type": "display_data"
    }
   ],
   "source": [
    "solutions_with_probs = []\n",
    "for state in naive_distribution:\n",
    "    solutions_with_probs.append(['->'.join(map(str,state)), naive_distribution[state]/10000])\n",
    "solutions_with_probs = sorted(solutions_with_probs,key=lambda x: -x[1])\n",
    "\n",
    "plots.plot_state_histogram(solutions_with_probs[:10][::-1])"
   ]
  },
  {
   "cell_type": "markdown",
   "metadata": {},
   "source": [
    "As you can see, still many (if not most) of the solutions don't make sense. In the next part you will see how to further improve this algorithm."
   ]
  },
  {
   "cell_type": "markdown",
   "metadata": {},
   "source": [
    "What we learned?\n",
    "- how to solve problem with constraints using QAOA\n",
    "- how to encode constraints and costs for TSP\n",
    "\n",
    "What's next?\n",
    "- improving the algorithm!"
   ]
  }
 ],
 "metadata": {
  "kernelspec": {
   "display_name": "Qiskit v0.34.1 (ipykernel)",
   "language": "python",
   "name": "python3"
  },
  "language_info": {
   "codemirror_mode": {
    "name": "ipython",
    "version": 3
   },
   "file_extension": ".py",
   "mimetype": "text/x-python",
   "name": "python",
   "nbconvert_exporter": "python",
   "pygments_lexer": "ipython3",
   "version": "3.8.10"
  },
  "widgets": {
   "application/vnd.jupyter.widget-state+json": {
    "state": {},
    "version_major": 2,
    "version_minor": 0
   }
  }
 },
 "nbformat": 4,
 "nbformat_minor": 4
}
